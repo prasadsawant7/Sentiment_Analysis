{
  "nbformat": 4,
  "nbformat_minor": 0,
  "metadata": {
    "colab": {
      "provenance": [],
      "mount_file_id": "1USOoneWymKOI669Mpw49RaamzoTL96SY",
      "authorship_tag": "ABX9TyN3wmkQCDAAZGp+CHRYU8iP",
      "include_colab_link": true
    },
    "kernelspec": {
      "name": "python3",
      "display_name": "Python 3"
    },
    "language_info": {
      "name": "python"
    }
  },
  "cells": [
    {
      "cell_type": "markdown",
      "metadata": {
        "id": "view-in-github",
        "colab_type": "text"
      },
      "source": [
        "<a href=\"https://colab.research.google.com/github/prasadsawant7/Sentiment_Analysis/blob/main/PolarityFinder_Vader.ipynb\" target=\"_parent\"><img src=\"https://colab.research.google.com/assets/colab-badge.svg\" alt=\"Open In Colab\"/></a>"
      ]
    },
    {
      "cell_type": "code",
      "execution_count": null,
      "metadata": {
        "id": "AFwcD9j2xxYm"
      },
      "outputs": [],
      "source": [
        "!pip install vaderSentiment"
      ]
    },
    {
      "cell_type": "code",
      "source": [
        "from vaderSentiment.vaderSentiment import SentimentIntensityAnalyzer"
      ],
      "metadata": {
        "id": "DRhdYHWO4ftZ"
      },
      "execution_count": null,
      "outputs": []
    },
    {
      "cell_type": "code",
      "source": [
        "analyzer = SentimentIntensityAnalyzer()"
      ],
      "metadata": {
        "id": "sEc_S_-z5G0C"
      },
      "execution_count": null,
      "outputs": []
    },
    {
      "cell_type": "code",
      "source": [
        "# negative compound score close to -1 indicates a highly negative sentiment\n",
        "# ompound score around 0 suggests a neutral sentiment\n",
        "# positive compound score close to 1 indicates a highly positive sentiment\n",
        "\n",
        "text = \"I love this movie! It's fantastic.\"\n",
        "sentiment_scores = analyzer.polarity_scores(text)\n",
        "sentiment_scores"
      ],
      "metadata": {
        "colab": {
          "base_uri": "https://localhost:8080/"
        },
        "id": "DJkjS3xO6ZWy",
        "outputId": "fa6c40da-bbdf-45ea-f5e2-c11f48b244b1"
      },
      "execution_count": null,
      "outputs": [
        {
          "output_type": "execute_result",
          "data": {
            "text/plain": [
              "{'neg': 0.0, 'neu': 0.331, 'pos': 0.669, 'compound': 0.8439}"
            ]
          },
          "metadata": {},
          "execution_count": 40
        }
      ]
    }
  ]
}