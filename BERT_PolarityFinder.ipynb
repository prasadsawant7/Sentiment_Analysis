{
 "cells": [
  {
   "cell_type": "code",
   "execution_count": 8,
   "id": "9d53bd7b",
   "metadata": {},
   "outputs": [
    {
     "name": "stdout",
     "output_type": "stream",
     "text": [
      "Successfully installed datasets-2.13.1 dill-0.3.6 multiprocess-0.70.14 pyarrow-12.0.1 xxhash-3.2.0\n"
     ]
    }
   ],
   "source": [
    "! pip install torch torchvision torchaudio transformers datasets numpy pandas"
   ]
  },
  {
   "cell_type": "code",
   "execution_count": 9,
   "id": "94bf7a7a",
   "metadata": {},
   "outputs": [],
   "source": [
    "from transformers import AutoTokenizer, AutoModelForSequenceClassification\n",
    "import torch\n",
    "from datasets import load_dataset\n",
    "import pandas as pd\n",
    "import numpy as np"
   ]
  },
  {
   "cell_type": "code",
   "execution_count": 10,
   "id": "402333eb",
   "metadata": {},
   "outputs": [],
   "source": [
    "tokenizer = AutoTokenizer.from_pretrained('nlptown/bert-base-multilingual-uncased-sentiment')\n",
    "model = AutoModelForSequenceClassification.from_pretrained('nlptown/bert-base-multilingual-uncased-sentiment')"
   ]
  },
  {
   "cell_type": "code",
   "execution_count": 13,
   "id": "cfaeae7a",
   "metadata": {},
   "outputs": [
    {
     "name": "stderr",
     "output_type": "stream",
     "text": [
      "Found cached dataset parquet (/home/terminator/.cache/huggingface/datasets/quocanh34___parquet/quocanh34--mental_health_dataset_1-a7427549bb4961d1/0.0.0/14a00e99c0d15a23649d0db8944380ac81082d4b021f398733dd84f3a6c569a7)\n"
     ]
    },
    {
     "data": {
      "application/vnd.jupyter.widget-view+json": {
       "model_id": "991eb5f7481b43dc8a0e0204b4c62b28",
       "version_major": 2,
       "version_minor": 0
      },
      "text/plain": [
       "  0%|          | 0/1 [00:00<?, ?it/s]"
      ]
     },
     "metadata": {},
     "output_type": "display_data"
    }
   ],
   "source": [
    "data = load_dataset('quocanh34/mental_health_dataset_1')"
   ]
  },
  {
   "cell_type": "code",
   "execution_count": 14,
   "id": "30540dba",
   "metadata": {},
   "outputs": [],
   "source": [
    "data_dict = data['train']"
   ]
  },
  {
   "cell_type": "code",
   "execution_count": 48,
   "id": "71ee87a7",
   "metadata": {},
   "outputs": [
    {
     "name": "stdout",
     "output_type": "stream",
     "text": [
      "tensor([[ 2.3499,  1.4388,  0.1122, -1.5969, -1.9020]],\n",
      "       grad_fn=<AddmmBackward0>)\n",
      "1\n",
      "tensor([[ 0.3881,  0.5972,  0.4350, -0.5397, -0.7959]],\n",
      "       grad_fn=<AddmmBackward0>)\n",
      "2\n",
      "tensor([[-0.3334,  0.0947,  0.4711,  0.0139, -0.2089]],\n",
      "       grad_fn=<AddmmBackward0>)\n",
      "3\n",
      "tensor([[-1.8378, -1.3210,  0.5200,  1.4175,  1.0245]],\n",
      "       grad_fn=<AddmmBackward0>)\n",
      "4\n",
      "tensor([[-2.3668, -2.2021, -0.1391,  1.7753,  2.0968]],\n",
      "       grad_fn=<AddmmBackward0>)\n",
      "5\n"
     ]
    }
   ],
   "source": [
    "def sentiment_score(text: str) -> int:\n",
    "    tokens = tokenizer.encode(text, return_tensors='pt')\n",
    "    result = model(tokens)\n",
    "    print(result.logits)\n",
    "    return int(torch.argmax(result.logits) + 1)\n",
    "\n",
    "print(sentiment_score(\"You are so ugly that, when One Direction saw you they went other direction\"))\n",
    "print(sentiment_score(\"I am feeling lonely\"))\n",
    "print(sentiment_score(\"It's been while I haven't met her\"))\n",
    "print(sentiment_score(\"I scored good marks in Maths\"))\n",
    "print(sentiment_score(\"Smile on the face of orphan children makes me feel happy\"))"
   ]
  },
  {
   "cell_type": "markdown",
   "id": "f9a06cc3",
   "metadata": {},
   "source": [
    "# Score varies between 1 to 5\n",
    "- 1 => More Negative\n",
    "- 2 => Negative\n",
    "- 3 => Neutral\n",
    "- 4 => Positive\n",
    "- 5 => More Positive "
   ]
  }
 ],
 "metadata": {
  "kernelspec": {
   "display_name": "Python 3 (ipykernel)",
   "language": "python",
   "name": "python3"
  },
  "language_info": {
   "codemirror_mode": {
    "name": "ipython",
    "version": 3
   },
   "file_extension": ".py",
   "mimetype": "text/x-python",
   "name": "python",
   "nbconvert_exporter": "python",
   "pygments_lexer": "ipython3",
   "version": "3.11.3"
  }
 },
 "nbformat": 4,
 "nbformat_minor": 5
}
